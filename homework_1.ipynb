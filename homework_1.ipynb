{
 "metadata": {
  "name": ""
 },
 "nbformat": 3,
 "nbformat_minor": 0,
 "worksheets": [
  {
   "cells": [
    {
     "cell_type": "heading",
     "level": 2,
     "metadata": {},
     "source": [
      "The Learning Problem"
     ]
    },
    {
     "cell_type": "markdown",
     "metadata": {},
     "source": [
      "###Problem 1\n",
      "What types of learning, if any, best describe the following three scenarios:\n",
      "\n",
      "(i) A coin classifcation system is created for a vending machine. In order to do this,\n",
      "the developers obtain exact coin specifcations from the U.S. Mint and derive\n",
      "a statistical model of the size, weight, and denomination, which the vending\n",
      "machine then uses to classify its coins.\n",
      "\n",
      "(ii) Instead of calling the U.S. Mint to obtain coin information, an algorithm is\n",
      "presented with a large set of labeled coins. The algorithm uses this data to\n",
      "infer decision boundaries which the vending machine then uses to classify its\n",
      "coins.\n",
      "\n",
      "(iii) A computer develops a strategy for playing Tic-Tac-Toe by playing repeatedly\n",
      "and adjusting its strategy by penalizing moves that eventually lead to losing.\n",
      "\n",
      "[a] (i) Supervised Learning, (ii) Unsupervised Learning, (iii) Reinforcement Learning\n",
      "\n",
      "[b] (i) Supervised Learning, (ii) Not learning, (iii) Unsupervised Learning\n",
      "\n",
      "[c] (i) Not learning, (ii) Reinforcement Learning, (iii) Supervised Learning\n",
      "\n",
      "[d] (i) Not learning, (ii) Supervised Learning, (iii) Reinforcement Learning\n",
      "\n",
      "[e] (i) Supervised Learning, (ii) Reinforcement Learning, (iii) Unsupervised Learning"
     ]
    },
    {
     "cell_type": "raw",
     "metadata": {},
     "source": [
      "Answer: [d]"
     ]
    },
    {
     "cell_type": "markdown",
     "metadata": {},
     "source": [
      "###Problem 2\n",
      "Which of the following problems are best suited for the learning approach?\n",
      "\n",
      "(i) Classifying numbers into primes and non-primes.\n",
      "\n",
      "(ii) Detecting potential fraud in credit card charges.\n",
      "\n",
      "(iii) Determining the time it would take a falling object to hit the ground.\n",
      "\n",
      "(iv) Determining the optimal cycle for traffic lights in a busy intersection.\n",
      "\n",
      "[a] (ii) and (iv)\n",
      "\n",
      "[b] (i) and (ii)\n",
      "\n",
      "[c] (i), (ii), and (iii)\n",
      "\n",
      "[d] (iii)\n",
      "\n",
      "[e] (i) and (iii)"
     ]
    },
    {
     "cell_type": "raw",
     "metadata": {},
     "source": [
      "Answer: [a]"
     ]
    },
    {
     "cell_type": "heading",
     "level": 2,
     "metadata": {},
     "source": [
      "Bins and Marbles"
     ]
    },
    {
     "cell_type": "markdown",
     "metadata": {},
     "source": [
      "###Problem 3\n",
      "We have 2 opaque bags, each containing 2 balls. One bag has 2 black balls and\n",
      "the other has a black ball and a white ball. You pick a bag at random and then pick\n",
      "one of the balls in that bag at random. When you look at the ball, it is black. You\n",
      "now pick the second ball from that same bag. What is the probability that this ball\n",
      "is also black?\n",
      "\n",
      "[a] 1 / 4\n",
      "\n",
      "[b] 1 / 3\n",
      "\n",
      "[c] 1 / 2\n",
      "\n",
      "[d] 2 / 3\n",
      "\n",
      "[e] 3 / 4"
     ]
    },
    {
     "cell_type": "raw",
     "metadata": {},
     "source": [
      "possible outcomes:\n",
      "bag_bw -> b -> w\n",
      "bag_bw -> w -> b\n",
      "bag_bb -> b -> b\n",
      "bag_bb -> b -> b\n",
      "\n",
      "since ball1 = b we are left with 3 possible outcomes\n",
      "from those only 2 give us the b->b so the answer is 2/3\n",
      "\n",
      "Answer: [d]"
     ]
    },
    {
     "cell_type": "markdown",
     "metadata": {},
     "source": [
      "Consider a sample of 10 marbles drawn from a bin that has red and green marbles.\n",
      "The probability that any marble we draw is red is $\\mu = 0.55$ (independently, with\n",
      "replacement). We address the probability of getting no red marbles $(\\nu = 0)$ in the\n",
      "following cases:"
     ]
    },
    {
     "cell_type": "markdown",
     "metadata": {},
     "source": [
      "####Problem 4\n",
      "We draw only one such sample. Compute the probability that $\\nu = 0$. The\n",
      "closest answer is (closest is the answer that makes the expression jyour answer\n",
      "given optionj closest to 0):\n",
      "[a] 7.331 * 10^6\n",
      "\n",
      "[b] 3.405 8 10^4\n",
      "\n",
      "[c] 0.289\n",
      "\n",
      "[d] 0.450\n",
      "\n",
      "[e] 0.550"
     ]
    },
    {
     "cell_type": "code",
     "collapsed": false,
     "input": [
      "p_green = 1-0.55\n",
      "pow(p_green,10)\n"
     ],
     "language": "python",
     "metadata": {},
     "outputs": [
      {
       "metadata": {},
       "output_type": "pyout",
       "prompt_number": 4,
       "text": [
        "0.0003405062891601559"
       ]
      }
     ],
     "prompt_number": 4
    },
    {
     "cell_type": "raw",
     "metadata": {},
     "source": [
      "Answer: [b]"
     ]
    },
    {
     "cell_type": "markdown",
     "metadata": {},
     "source": [
      "####Problem 5"
     ]
    },
    {
     "cell_type": "markdown",
     "metadata": {},
     "source": [
      "We draw 1,000 independent samples. Compute the probability that (at least)\n",
      "one of the samples has nu = 0. The closest answer is:\n",
      "[a] 7.331 * 10^6\n",
      "[b] 3.405 * 10^4\n",
      "[c] 0.289\n",
      "[d] 0.450\n",
      "[e] 0.550"
     ]
    },
    {
     "cell_type": "code",
     "collapsed": false,
     "input": [
      "r = pow(p_green, 10) * 1000\n",
      "print r\n",
      "print 'c=', r - 0.28\n",
      "print 'd=', r - 0.45\n",
      "print 'e=', r - 0.55"
     ],
     "language": "python",
     "metadata": {},
     "outputs": [
      {
       "output_type": "stream",
       "stream": "stdout",
       "text": [
        "0.34050628916\n",
        "c= 0.0605062891602\n",
        "d= -0.10949371084\n",
        "e= -0.20949371084\n"
       ]
      }
     ],
     "prompt_number": 7
    },
    {
     "cell_type": "raw",
     "metadata": {},
     "source": [
      "Answer: [c]"
     ]
    },
    {
     "cell_type": "heading",
     "level": 2,
     "metadata": {},
     "source": [
      "Feasibility of Learning"
     ]
    },
    {
     "cell_type": "code",
     "collapsed": false,
     "input": [],
     "language": "python",
     "metadata": {},
     "outputs": []
    }
   ],
   "metadata": {}
  }
 ]
}