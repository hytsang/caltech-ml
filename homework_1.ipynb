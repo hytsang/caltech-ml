{
 "metadata": {
  "name": ""
 },
 "nbformat": 3,
 "nbformat_minor": 0,
 "worksheets": [
  {
   "cells": [
    {
     "cell_type": "heading",
     "level": 2,
     "metadata": {},
     "source": [
      "The Learning Problem"
     ]
    },
    {
     "cell_type": "raw",
     "metadata": {},
     "source": [
      "### Problem 1\n",
      "What types of learning, if any, best describe the following three scenarios:\n",
      "\n",
      "i. A coin classifcation system is created for a vending machine. In order to do this,\n",
      "the developers obtain exact coin specifcations from the U.S. Mint and derive\n",
      "a statistical model of the size, weight, and denomination, which the vending\n",
      "machine then uses to classify its coins.\n",
      "ii. Instead of calling the U.S. Mint to obtain coin information, an algorithm is\n",
      "presented with a large set of labeled coins. The algorithm uses this data to\n",
      "infer decision boundaries which the vending machine then uses to classify its\n",
      "coins.\n",
      "iii. A computer develops a strategy for playing Tic-Tac-Toe by playing repeatedly\n",
      "and adjusting its strategy by penalizing moves that eventually lead to losing.\n",
      "\n",
      "[a] (i) Supervised Learning, \n",
      "    (ii) Unsupervised Learning, \n",
      "    (iii) Reinforcement Learning\n",
      "\n",
      "[b] (i) Supervised Learning, \n",
      "    (ii) Not learning, \n",
      "    (iii) Unsupervised Learning\n",
      "\n",
      "[c] (i) Not learning, \n",
      "    (ii) Reinforcement Learning, \n",
      "    (iii) Supervised Learning\n",
      "\n",
      "[d] (i) Not learning, \n",
      "    (ii) Supervised Learning, \n",
      "    (iii) Reinforcement Learning\n",
      "\n",
      "[e] (i) Supervised Learning, \n",
      "    (ii) Reinforcement Learning, \n",
      "    (iii) Unsupervised Learning"
     ]
    },
    {
     "cell_type": "raw",
     "metadata": {},
     "source": [
      "Answer: [d]"
     ]
    },
    {
     "cell_type": "raw",
     "metadata": {},
     "source": [
      "### Problem 2\n",
      "Which of the following problems are best suited for the learning approach?\n",
      "\n",
      "(i) Classifying numbers into primes and non-primes.\n",
      "(ii) Detecting potential fraud in credit card charges.\n",
      "(iii) Determining the time it would take a falling object to hit the ground.\n",
      "(iv) Determining the optimal cycle for traffic lights in a busy intersection.\n",
      "\n",
      "[a] (ii) and (iv)\n",
      "[b] (i) and (ii)\n",
      "[c] (i), (ii), and (iii)\n",
      "[d] (iii)\n",
      "[e] (i) and (iii)"
     ]
    },
    {
     "cell_type": "raw",
     "metadata": {},
     "source": [
      "Answer: [a]"
     ]
    },
    {
     "cell_type": "heading",
     "level": 2,
     "metadata": {},
     "source": [
      "Bins and Marbles"
     ]
    },
    {
     "cell_type": "raw",
     "metadata": {},
     "source": [
      "### Problem 3\n",
      "We have 2 opaque bags, each containing 2 balls. One bag has 2 black balls and\n",
      "the other has a black ball and a white ball. You pick a bag at random and then pick\n",
      "one of the balls in that bag at random. When you look at the ball, it is black. You\n",
      "now pick the second ball from that same bag. What is the probability that this ball\n",
      "is also black?\n",
      "\n",
      "[a] 1 / 4\n",
      "[b] 1 / 3\n",
      "[c] 1 / 2\n",
      "[d] 2 / 3\n",
      "[e] 3 / 4"
     ]
    },
    {
     "cell_type": "raw",
     "metadata": {},
     "source": [
      "possible outcomes:\n",
      "bag_bw -> b -> w\n",
      "bag_bw -> w -> b\n",
      "bag_bb -> b -> b\n",
      "bag_bb -> b -> b\n",
      "\n",
      "since ball1 = b we are left with 3 possible outcomes\n",
      "from those only 2 give us the b->b so the answer is 2/3\n",
      "\n",
      "Answer: [d]"
     ]
    },
    {
     "cell_type": "markdown",
     "metadata": {},
     "source": [
      "Consider a sample of 10 marbles drawn from a bin that has red and green marbles.\n",
      "The probability that any marble we draw is red is $\\mu = 0.55$ (independently, with\n",
      "replacement). We address the probability of getting no red marbles $(\\nu = 0)$ in the\n",
      "following cases:"
     ]
    },
    {
     "cell_type": "raw",
     "metadata": {},
     "source": [
      "### Problem 4\n",
      "We draw only one such sample. Compute the probability that $\\nu = 0$. The\n",
      "closest answer is (closest is the answer that makes the expression jyour answer\n",
      "given optionj closest to 0):\n",
      "[a] 7.331 * 10^6\n",
      "[b] 3.405 * 10^4\n",
      "[c] 0.289\n",
      "[d] 0.450\n",
      "[e] 0.550"
     ]
    },
    {
     "cell_type": "code",
     "collapsed": false,
     "input": [
      "p_green = 1-0.55\n",
      "pow(p_green,10)\n"
     ],
     "language": "python",
     "metadata": {},
     "outputs": [
      {
       "metadata": {},
       "output_type": "pyout",
       "prompt_number": 2,
       "text": [
        "0.0003405062891601559"
       ]
      }
     ],
     "prompt_number": 2
    },
    {
     "cell_type": "raw",
     "metadata": {},
     "source": [
      "Answer: [b]"
     ]
    },
    {
     "cell_type": "raw",
     "metadata": {},
     "source": [
      "### Problem 5\n",
      "We draw 1,000 independent samples. Compute the probability that (at least)\n",
      "one of the samples has nu = 0. The closest answer is:\n",
      "[a] 7.331 * 10^6\n",
      "[b] 3.405 * 10^4\n",
      "[c] 0.289\n",
      "[d] 0.450\n",
      "[e] 0.550"
     ]
    },
    {
     "cell_type": "code",
     "collapsed": false,
     "input": [
      "r = pow(p_green, 10) * 1000\n",
      "print r\n",
      "print 'c=', abs(r - 0.28)\n",
      "print 'd=', abs(r - 0.45)\n",
      "print 'e=', abs(r - 0.55)"
     ],
     "language": "python",
     "metadata": {},
     "outputs": [
      {
       "output_type": "stream",
       "stream": "stdout",
       "text": [
        "0.34050628916\n",
        "c= 0.0605062891602\n",
        "d= 0.10949371084\n",
        "e= 0.20949371084\n"
       ]
      }
     ],
     "prompt_number": 3
    },
    {
     "cell_type": "raw",
     "metadata": {},
     "source": [
      "Answer: [c]"
     ]
    },
    {
     "cell_type": "heading",
     "level": 2,
     "metadata": {},
     "source": [
      "Feasibility of Learning"
     ]
    },
    {
     "cell_type": "raw",
     "metadata": {},
     "source": [
      "### Problem 6\n",
      "\n",
      "Answer: [e] \n",
      "they all get same score = 3*1 + 2*3 + 1*3 + 0 * 1 = 12"
     ]
    },
    {
     "cell_type": "heading",
     "level": 2,
     "metadata": {},
     "source": [
      "The Perceptron Learning Algorithm"
     ]
    },
    {
     "cell_type": "code",
     "collapsed": false,
     "input": [
      "%pylab inline\n",
      "\n",
      "import random as rnd\n",
      "import numpy as np\n",
      "import matplotlib.pyplot as plt\n",
      "\n",
      "\n",
      "def generateLine():\n",
      "    points = np.random.uniform(-1, 1, (2, 2))\n",
      "    (x1,y1),(x2,y2) = points\n",
      "    k = (y2 - y1) / (x2 - x1)\n",
      "    m = y1 - k * x1\n",
      "    return k,m\n",
      "\n",
      "def generateData(line, N=10):\n",
      "    k,m = line\n",
      "    x = np.ones((N, 3))\n",
      "    x[:,1:] = np.random.uniform(-1, 1, (N, 2))\n",
      "    y = x[:,2] - x[:,1] * k + m \n",
      "    return x,np.sign(y)\n",
      "\n",
      "def showData(x,y):\n",
      "    pos = y > 0\n",
      "    neg = y < 0\n",
      "    plt.plot(x[:,1][pos], x[:,2][pos], 'bD')\n",
      "    plt.plot(x[:,1][neg], x[:,2][neg], 'rs')\n",
      "    plt.show()\n",
      "\n",
      "def perceptron(x, y):\n",
      "    w = np.zeros(x.shape[1], dtype=float)\n",
      "    t = 0\n",
      "    while True:\n",
      "        missed = []\n",
      "        for i, r in enumerate(x):\n",
      "            result = np.sign(np.dot(r, w))\n",
      "            u = r * (y[i] - result)\n",
      "            if result != y[i]: missed.append(u)\n",
      "        if len(missed) == 0: return w,t\n",
      "        w = w + rnd.choice(missed)\n",
      "        t += 1\n",
      "        \n",
      "def disagreement(x,y,w):\n",
      "    result = np.dot(x, w)\n",
      "    d = np.ones(y.size)[y != np.sign(result)]\n",
      "    return np.sum(d) / y.size\n",
      "        \n",
      "def runProblem(N, n=1000):\n",
      "    c = 0.0\n",
      "    d = 0.0\n",
      "    for i in xrange(n):\n",
      "        line = generateLine()\n",
      "        x,y = generateData(line, N)\n",
      "        w,t = perceptron(x,y)\n",
      "        testX, testY = generateData(line, n)\n",
      "        d += disagreement(testX, testY, w)\n",
      "        c += t\n",
      "    return {'iterations': c / n, 'disagreement': d / n}\n",
      "       \n",
      "    "
     ],
     "language": "python",
     "metadata": {},
     "outputs": [
      {
       "output_type": "stream",
       "stream": "stdout",
       "text": [
        "Populating the interactive namespace from numpy and matplotlib\n"
       ]
      }
     ],
     "prompt_number": 50
    },
    {
     "cell_type": "raw",
     "metadata": {},
     "source": [
      "### Problem 7 & 8"
     ]
    },
    {
     "cell_type": "code",
     "collapsed": false,
     "input": [
      "runProblem(10)"
     ],
     "language": "python",
     "metadata": {},
     "outputs": [
      {
       "metadata": {},
       "output_type": "pyout",
       "prompt_number": 51,
       "text": [
        "{'disagreement': 0.10742300000000012, 'iterations': 10.338}"
       ]
      }
     ],
     "prompt_number": 51
    },
    {
     "cell_type": "raw",
     "metadata": {},
     "source": [
      "Answer7: [b]\n",
      "Answer8: [c]"
     ]
    },
    {
     "cell_type": "raw",
     "metadata": {},
     "source": [
      "### Problem 9 & 10"
     ]
    },
    {
     "cell_type": "code",
     "collapsed": false,
     "input": [
      "runProblem(100)"
     ],
     "language": "python",
     "metadata": {},
     "outputs": [
      {
       "metadata": {},
       "output_type": "pyout",
       "prompt_number": 52,
       "text": [
        "{'disagreement': 0.013583999999999969, 'iterations': 92.811}"
       ]
      }
     ],
     "prompt_number": 52
    },
    {
     "cell_type": "raw",
     "metadata": {},
     "source": [
      "Answer9:  [b]\n",
      "Answer10: [b]"
     ]
    },
    {
     "cell_type": "code",
     "collapsed": false,
     "input": [],
     "language": "python",
     "metadata": {},
     "outputs": []
    }
   ],
   "metadata": {}
  }
 ]
}